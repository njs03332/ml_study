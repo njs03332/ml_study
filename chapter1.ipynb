{
 "cells": [
  {
   "cell_type": "code",
   "execution_count": 1,
   "id": "31de1cfd",
   "metadata": {},
   "outputs": [],
   "source": [
    "import torch"
   ]
  },
  {
   "cell_type": "code",
   "execution_count": 3,
   "id": "47e0e235",
   "metadata": {},
   "outputs": [],
   "source": [
    "def describe(x):\n",
    "    print(\"타입: {}\".format(x.type()))\n",
    "    print(\"크기: {}\".format(x.shape))\n",
    "    print(\"값: \\n{}\".format(x))"
   ]
  },
  {
   "cell_type": "code",
   "execution_count": 4,
   "id": "f59e6cba",
   "metadata": {},
   "outputs": [
    {
     "name": "stdout",
     "output_type": "stream",
     "text": [
      "타입: torch.FloatTensor\n",
      "크기: torch.Size([2, 3])\n",
      "값: \n",
      "tensor([[2.5715e-38, 1.0286e-37, 2.7186e-38],\n",
      "        [2.5581e-35, 4.1144e-37, 3.8797e-37]])\n"
     ]
    }
   ],
   "source": [
    "describe(torch.Tensor(2, 3))"
   ]
  },
  {
   "cell_type": "code",
   "execution_count": 6,
   "id": "66a8829a",
   "metadata": {},
   "outputs": [
    {
     "name": "stdout",
     "output_type": "stream",
     "text": [
      "타입: torch.FloatTensor\n",
      "크기: torch.Size([2, 3])\n",
      "값: \n",
      "tensor([[0.9516, 0.7156, 0.6564],\n",
      "        [0.0196, 0.3413, 0.4476]])\n",
      "타입: torch.FloatTensor\n",
      "크기: torch.Size([2, 3])\n",
      "값: \n",
      "tensor([[ 1.1615,  0.4323, -0.3738],\n",
      "        [ 1.0184, -0.8679,  0.6235]])\n"
     ]
    }
   ],
   "source": [
    "describe(torch.rand(2,3))  # 균등분포\n",
    "describe(torch.randn(2,3))  # 표준 정규분포"
   ]
  },
  {
   "cell_type": "code",
   "execution_count": 8,
   "id": "a4c14a87",
   "metadata": {},
   "outputs": [
    {
     "name": "stdout",
     "output_type": "stream",
     "text": [
      "타입: torch.FloatTensor\n",
      "크기: torch.Size([2, 3])\n",
      "값: \n",
      "tensor([[0., 0., 0.],\n",
      "        [0., 0., 0.]])\n",
      "타입: torch.FloatTensor\n",
      "크기: torch.Size([2, 3])\n",
      "값: \n",
      "tensor([[1., 1., 1.],\n",
      "        [1., 1., 1.]])\n",
      "타입: torch.FloatTensor\n",
      "크기: torch.Size([2, 3])\n",
      "값: \n",
      "tensor([[5., 5., 5.],\n",
      "        [5., 5., 5.]])\n"
     ]
    }
   ],
   "source": [
    "describe(torch.zeros(2,3))\n",
    "describe(torch.ones(2,3))\n",
    "describe(torch.ones(2,3).fill_(5))"
   ]
  },
  {
   "cell_type": "code",
   "execution_count": 9,
   "id": "3c71b481",
   "metadata": {},
   "outputs": [
    {
     "name": "stdout",
     "output_type": "stream",
     "text": [
      "타입: torch.FloatTensor\n",
      "크기: torch.Size([2, 3])\n",
      "값: \n",
      "tensor([[1., 2., 3.],\n",
      "        [4., 5., 6.]])\n"
     ]
    }
   ],
   "source": [
    "x = torch.Tensor([[1,2,3],[4,5,6]])\n",
    "describe(x)"
   ]
  },
  {
   "cell_type": "code",
   "execution_count": 10,
   "id": "50f06616",
   "metadata": {},
   "outputs": [
    {
     "name": "stdout",
     "output_type": "stream",
     "text": [
      "타입: torch.FloatTensor\n",
      "크기: torch.Size([2, 3])\n",
      "값: \n",
      "tensor([[ 0.9141,  0.2717,  1.1248],\n",
      "        [-0.3317,  0.0375,  1.1302]])\n"
     ]
    }
   ],
   "source": [
    "x = torch.randn(2,3)\n",
    "describe(x)"
   ]
  },
  {
   "cell_type": "code",
   "execution_count": 11,
   "id": "f8fa752b",
   "metadata": {},
   "outputs": [
    {
     "data": {
      "text/plain": [
       "tensor([[ 1.8282,  0.5433,  2.2495],\n",
       "        [-0.6634,  0.0750,  2.2604]])"
      ]
     },
     "execution_count": 11,
     "metadata": {},
     "output_type": "execute_result"
    }
   ],
   "source": [
    "torch.add(x,x)"
   ]
  },
  {
   "cell_type": "code",
   "execution_count": 12,
   "id": "42097d63",
   "metadata": {},
   "outputs": [
    {
     "data": {
      "text/plain": [
       "tensor([[ 1.8282,  0.5433,  2.2495],\n",
       "        [-0.6634,  0.0750,  2.2604]])"
      ]
     },
     "execution_count": 12,
     "metadata": {},
     "output_type": "execute_result"
    }
   ],
   "source": [
    "x + x"
   ]
  },
  {
   "cell_type": "code",
   "execution_count": 14,
   "id": "3b3c45c7",
   "metadata": {},
   "outputs": [
    {
     "name": "stdout",
     "output_type": "stream",
     "text": [
      "타입: torch.LongTensor\n",
      "크기: torch.Size([6])\n",
      "값: \n",
      "tensor([0, 1, 2, 3, 4, 5])\n"
     ]
    }
   ],
   "source": [
    "x = torch.arange(6)\n",
    "describe(x)"
   ]
  },
  {
   "cell_type": "code",
   "execution_count": 15,
   "id": "cf0dd52a",
   "metadata": {},
   "outputs": [
    {
     "name": "stdout",
     "output_type": "stream",
     "text": [
      "타입: torch.LongTensor\n",
      "크기: torch.Size([2, 3])\n",
      "값: \n",
      "tensor([[0, 1, 2],\n",
      "        [3, 4, 5]])\n"
     ]
    }
   ],
   "source": [
    "x = x.view(2,3)\n",
    "describe(x)"
   ]
  },
  {
   "cell_type": "code",
   "execution_count": 16,
   "id": "ff8280a4",
   "metadata": {},
   "outputs": [
    {
     "name": "stdout",
     "output_type": "stream",
     "text": [
      "타입: torch.LongTensor\n",
      "크기: torch.Size([3])\n",
      "값: \n",
      "tensor([3, 5, 7])\n"
     ]
    }
   ],
   "source": [
    "describe(torch.sum(x, dim=0))"
   ]
  },
  {
   "cell_type": "code",
   "execution_count": 17,
   "id": "370409f5",
   "metadata": {},
   "outputs": [
    {
     "name": "stdout",
     "output_type": "stream",
     "text": [
      "타입: torch.LongTensor\n",
      "크기: torch.Size([2])\n",
      "값: \n",
      "tensor([ 3, 12])\n"
     ]
    }
   ],
   "source": [
    "describe(torch.sum(x, dim=1))"
   ]
  },
  {
   "cell_type": "code",
   "execution_count": 18,
   "id": "e54cece5",
   "metadata": {},
   "outputs": [
    {
     "name": "stdout",
     "output_type": "stream",
     "text": [
      "타입: torch.LongTensor\n",
      "크기: torch.Size([3, 2])\n",
      "값: \n",
      "tensor([[0, 3],\n",
      "        [1, 4],\n",
      "        [2, 5]])\n"
     ]
    }
   ],
   "source": [
    "describe(torch.transpose(x, 0, 1))  # 두번째와 세번째 매개변수로 전달된 차원을 전치한 텐서를 만들어줌"
   ]
  },
  {
   "cell_type": "code",
   "execution_count": 19,
   "id": "22629adc",
   "metadata": {},
   "outputs": [
    {
     "name": "stdout",
     "output_type": "stream",
     "text": [
      "타입: torch.LongTensor\n",
      "크기: torch.Size([2, 3])\n",
      "값: \n",
      "tensor([[0, 1, 2],\n",
      "        [3, 4, 5]])\n"
     ]
    }
   ],
   "source": [
    "x = torch.arange(6).view(2,3)\n",
    "describe(x)"
   ]
  },
  {
   "cell_type": "code",
   "execution_count": 20,
   "id": "ea885940",
   "metadata": {},
   "outputs": [],
   "source": [
    "indices = torch.LongTensor([0,2])"
   ]
  },
  {
   "cell_type": "code",
   "execution_count": 21,
   "id": "3bbf76e0",
   "metadata": {},
   "outputs": [
    {
     "data": {
      "text/plain": [
       "tensor([0, 2])"
      ]
     },
     "execution_count": 21,
     "metadata": {},
     "output_type": "execute_result"
    }
   ],
   "source": [
    "indices"
   ]
  },
  {
   "cell_type": "code",
   "execution_count": 22,
   "id": "e5019a29",
   "metadata": {},
   "outputs": [
    {
     "name": "stdout",
     "output_type": "stream",
     "text": [
      "타입: torch.LongTensor\n",
      "크기: torch.Size([2, 2])\n",
      "값: \n",
      "tensor([[0, 2],\n",
      "        [3, 5]])\n"
     ]
    }
   ],
   "source": [
    "describe(torch.index_select(x, dim=1, index=indices))"
   ]
  },
  {
   "cell_type": "code",
   "execution_count": 23,
   "id": "67f2c672",
   "metadata": {},
   "outputs": [
    {
     "name": "stdout",
     "output_type": "stream",
     "text": [
      "타입: torch.LongTensor\n",
      "크기: torch.Size([2, 3])\n",
      "값: \n",
      "tensor([[0, 1, 2],\n",
      "        [0, 1, 2]])\n"
     ]
    }
   ],
   "source": [
    "indices = torch.LongTensor([0,0])\n",
    "describe(torch.index_select(x, dim=0, index=indices))"
   ]
  },
  {
   "cell_type": "code",
   "execution_count": 24,
   "id": "50cc0a69",
   "metadata": {},
   "outputs": [],
   "source": [
    "row_indices = torch.arange(2).long()\n",
    "col_indices = torch.LongTensor([0,1])"
   ]
  },
  {
   "cell_type": "code",
   "execution_count": 25,
   "id": "5ddea1e3",
   "metadata": {},
   "outputs": [
    {
     "data": {
      "text/plain": [
       "tensor([0, 1])"
      ]
     },
     "execution_count": 25,
     "metadata": {},
     "output_type": "execute_result"
    }
   ],
   "source": [
    "row_indices"
   ]
  },
  {
   "cell_type": "code",
   "execution_count": 26,
   "id": "8227d784",
   "metadata": {},
   "outputs": [
    {
     "data": {
      "text/plain": [
       "tensor([0, 1])"
      ]
     },
     "execution_count": 26,
     "metadata": {},
     "output_type": "execute_result"
    }
   ],
   "source": [
    "col_indices"
   ]
  },
  {
   "cell_type": "code",
   "execution_count": 27,
   "id": "5c215d89",
   "metadata": {},
   "outputs": [
    {
     "name": "stdout",
     "output_type": "stream",
     "text": [
      "타입: torch.LongTensor\n",
      "크기: torch.Size([2])\n",
      "값: \n",
      "tensor([0, 4])\n"
     ]
    }
   ],
   "source": [
    "describe(x[row_indices, col_indices])"
   ]
  },
  {
   "cell_type": "code",
   "execution_count": 30,
   "id": "aa0a6094",
   "metadata": {},
   "outputs": [
    {
     "data": {
      "text/plain": [
       "tensor([[0, 1, 2],\n",
       "        [3, 4, 5]])"
      ]
     },
     "execution_count": 30,
     "metadata": {},
     "output_type": "execute_result"
    }
   ],
   "source": [
    "x[[0,1]]"
   ]
  },
  {
   "cell_type": "code",
   "execution_count": 35,
   "id": "d1200e2c",
   "metadata": {},
   "outputs": [
    {
     "data": {
      "text/plain": [
       "tensor([[0, 1],\n",
       "        [3, 4]])"
      ]
     },
     "execution_count": 35,
     "metadata": {},
     "output_type": "execute_result"
    }
   ],
   "source": [
    "x[:, [0,1]]"
   ]
  },
  {
   "cell_type": "code",
   "execution_count": 36,
   "id": "82cb79b1",
   "metadata": {},
   "outputs": [
    {
     "name": "stdout",
     "output_type": "stream",
     "text": [
      "타입: torch.LongTensor\n",
      "크기: torch.Size([4, 3])\n",
      "값: \n",
      "tensor([[0, 1, 2],\n",
      "        [3, 4, 5],\n",
      "        [0, 1, 2],\n",
      "        [3, 4, 5]])\n"
     ]
    }
   ],
   "source": [
    "describe(torch.cat([x,x],dim=0))"
   ]
  },
  {
   "cell_type": "code",
   "execution_count": 37,
   "id": "76c8bc2b",
   "metadata": {},
   "outputs": [
    {
     "name": "stdout",
     "output_type": "stream",
     "text": [
      "타입: torch.LongTensor\n",
      "크기: torch.Size([2, 6])\n",
      "값: \n",
      "tensor([[0, 1, 2, 0, 1, 2],\n",
      "        [3, 4, 5, 3, 4, 5]])\n"
     ]
    }
   ],
   "source": [
    "describe(torch.cat([x,x],dim=1))"
   ]
  },
  {
   "cell_type": "code",
   "execution_count": 38,
   "id": "bd62ca9d",
   "metadata": {},
   "outputs": [
    {
     "name": "stdout",
     "output_type": "stream",
     "text": [
      "타입: torch.LongTensor\n",
      "크기: torch.Size([2, 2, 3])\n",
      "값: \n",
      "tensor([[[0, 1, 2],\n",
      "         [3, 4, 5]],\n",
      "\n",
      "        [[0, 1, 2],\n",
      "         [3, 4, 5]]])\n"
     ]
    }
   ],
   "source": [
    "describe(torch.stack([x,x]))"
   ]
  },
  {
   "cell_type": "code",
   "execution_count": 39,
   "id": "7154ec51",
   "metadata": {},
   "outputs": [
    {
     "name": "stdout",
     "output_type": "stream",
     "text": [
      "타입: torch.FloatTensor\n",
      "크기: torch.Size([3, 2])\n",
      "값: \n",
      "tensor([[1., 2.],\n",
      "        [1., 2.],\n",
      "        [1., 2.]])\n"
     ]
    }
   ],
   "source": [
    "x2 = torch.ones(3,2)\n",
    "x2[:,1] += 1\n",
    "describe(x2)"
   ]
  },
  {
   "cell_type": "code",
   "execution_count": 45,
   "id": "6891ecaf",
   "metadata": {},
   "outputs": [],
   "source": [
    "x1 = torch.arange(6).view(2,3).float()"
   ]
  },
  {
   "cell_type": "code",
   "execution_count": 46,
   "id": "b9d453ae",
   "metadata": {},
   "outputs": [
    {
     "data": {
      "text/plain": [
       "'torch.FloatTensor'"
      ]
     },
     "execution_count": 46,
     "metadata": {},
     "output_type": "execute_result"
    }
   ],
   "source": [
    "x1.type()"
   ]
  },
  {
   "cell_type": "code",
   "execution_count": 47,
   "id": "2aaf3dac",
   "metadata": {},
   "outputs": [
    {
     "name": "stdout",
     "output_type": "stream",
     "text": [
      "타입: torch.FloatTensor\n",
      "크기: torch.Size([2, 2])\n",
      "값: \n",
      "tensor([[ 3.,  6.],\n",
      "        [12., 24.]])\n"
     ]
    }
   ],
   "source": [
    "describe(torch.mm(x1, x2))"
   ]
  },
  {
   "cell_type": "code",
   "execution_count": 48,
   "id": "50e77bf1",
   "metadata": {},
   "outputs": [
    {
     "name": "stdout",
     "output_type": "stream",
     "text": [
      "타입: torch.FloatTensor\n",
      "크기: torch.Size([2, 2])\n",
      "값: \n",
      "tensor([[1., 1.],\n",
      "        [1., 1.]], requires_grad=True)\n",
      "True\n"
     ]
    }
   ],
   "source": [
    "x = torch.ones(2,2,requires_grad=True)\n",
    "describe(x)\n",
    "print(x.grad is None)"
   ]
  },
  {
   "cell_type": "code",
   "execution_count": 49,
   "id": "bc01cba5",
   "metadata": {},
   "outputs": [
    {
     "name": "stdout",
     "output_type": "stream",
     "text": [
      "False\n"
     ]
    }
   ],
   "source": [
    "print(torch.cuda.is_available())"
   ]
  },
  {
   "cell_type": "markdown",
   "id": "0c04e1a9",
   "metadata": {},
   "source": [
    "## 1.5 연습문제"
   ]
  },
  {
   "cell_type": "code",
   "execution_count": 2,
   "id": "e50e1e8a",
   "metadata": {},
   "outputs": [],
   "source": [
    "# pyTorch dimension에 대한 이해 - 참고: https://towardsdatascience.com/understanding-dimensions-in-pytorch-6edf9972d3be"
   ]
  },
  {
   "cell_type": "code",
   "execution_count": 8,
   "id": "ce7299a8",
   "metadata": {},
   "outputs": [
    {
     "data": {
      "text/plain": [
       "tensor([[ 1.2488, -0.9781,  0.8232],\n",
       "        [ 1.5018,  0.6772, -0.2954]])"
      ]
     },
     "execution_count": 8,
     "metadata": {},
     "output_type": "execute_result"
    }
   ],
   "source": [
    "# 1. 2D 텐서를 만들고 차원 0 위치에 크기가 1인 차원을 추가하세요.\n",
    "x = torch.randn(2,3)\n",
    "x"
   ]
  },
  {
   "cell_type": "code",
   "execution_count": 7,
   "id": "255cd39b",
   "metadata": {},
   "outputs": [
    {
     "data": {
      "text/plain": [
       "tensor([[[-0.9835,  0.1909, -0.7434],\n",
       "         [-0.8819,  1.3089,  0.0804]]])"
      ]
     },
     "execution_count": 7,
     "metadata": {},
     "output_type": "execute_result"
    }
   ],
   "source": [
    "x = torch.unsqueeze(x, 0)\n",
    "x"
   ]
  },
  {
   "cell_type": "code",
   "execution_count": 9,
   "id": "33dc06e2",
   "metadata": {},
   "outputs": [
    {
     "data": {
      "text/plain": [
       "tensor([[ 0.4688,  0.9051,  1.3427],\n",
       "        [-0.8017, -2.0337, -0.4360]])"
      ]
     },
     "execution_count": 9,
     "metadata": {},
     "output_type": "execute_result"
    }
   ],
   "source": [
    "# 2. 이전 텐서에 추가한 차원을 삭제하세요.\n",
    "x = torch.squeeze(x, 0)\n",
    "x"
   ]
  },
  {
   "cell_type": "code",
   "execution_count": 10,
   "id": "4d79e524",
   "metadata": {},
   "outputs": [
    {
     "data": {
      "text/plain": [
       "tensor([[4.0991, 7.9627, 6.4734],\n",
       "        [7.8015, 7.3371, 6.3551],\n",
       "        [5.4962, 6.8322, 5.0916],\n",
       "        [4.4837, 7.1988, 4.5929],\n",
       "        [5.3344, 7.9497, 4.5429]])"
      ]
     },
     "execution_count": 10,
     "metadata": {},
     "output_type": "execute_result"
    }
   ],
   "source": [
    "# 3. 범위가 [3,7)이고 크기가 5*3인 랜덤한 텐서를 만드세요.\n",
    "M = 8\n",
    "m = 4\n",
    "#create tensor with random values in range (min, max)\n",
    "x = (M - m)*torch.rand((5, 3)) + m\n",
    "x"
   ]
  },
  {
   "cell_type": "code",
   "execution_count": 11,
   "id": "a4ea6389",
   "metadata": {},
   "outputs": [
    {
     "data": {
      "text/plain": [
       "tensor([[ 1.4187, -0.6665,  0.4704],\n",
       "        [-0.3148,  0.2254, -0.0907]])"
      ]
     },
     "execution_count": 11,
     "metadata": {},
     "output_type": "execute_result"
    }
   ],
   "source": [
    "# 4. 정규분포를 사용해 텐서를 만드세요.\n",
    "x = torch.randn(2, 3)\n",
    "x"
   ]
  },
  {
   "cell_type": "code",
   "execution_count": 20,
   "id": "502378df",
   "metadata": {},
   "outputs": [
    {
     "data": {
      "text/plain": [
       "tensor([[ 0.9819, -0.4371,  1.1632],\n",
       "        [ 1.4386,  1.5669,  0.3594]])"
      ]
     },
     "execution_count": 20,
     "metadata": {},
     "output_type": "execute_result"
    }
   ],
   "source": [
    "x = torch.rand(2,3)\n",
    "x.normal_()"
   ]
  },
  {
   "cell_type": "code",
   "execution_count": 16,
   "id": "e10e3200",
   "metadata": {},
   "outputs": [
    {
     "data": {
      "text/plain": [
       "tensor([[0],\n",
       "        [1],\n",
       "        [2],\n",
       "        [4]])"
      ]
     },
     "execution_count": 16,
     "metadata": {},
     "output_type": "execute_result"
    }
   ],
   "source": [
    "# 5. 텐서 torch.Tensor([1,1,1,0,1])에서 0이 아닌 원소의 인덱스를 추출하세요.\n",
    "x = torch.Tensor([1,1,1,0,1])\n",
    "x.nonzero()"
   ]
  },
  {
   "cell_type": "code",
   "execution_count": 17,
   "id": "5c263abc",
   "metadata": {},
   "outputs": [
    {
     "data": {
      "text/plain": [
       "tensor([[0],\n",
       "        [1],\n",
       "        [2],\n",
       "        [4]])"
      ]
     },
     "execution_count": 17,
     "metadata": {},
     "output_type": "execute_result"
    }
   ],
   "source": [
    "(x != 0).nonzero()"
   ]
  },
  {
   "cell_type": "code",
   "execution_count": 12,
   "id": "43c46be2",
   "metadata": {},
   "outputs": [
    {
     "data": {
      "text/plain": [
       "tensor([[[0.1408],\n",
       "         [0.6785],\n",
       "         [0.6254]],\n",
       "\n",
       "        [[0.1408],\n",
       "         [0.6785],\n",
       "         [0.6254]],\n",
       "\n",
       "        [[0.1408],\n",
       "         [0.6785],\n",
       "         [0.6254]],\n",
       "\n",
       "        [[0.1408],\n",
       "         [0.6785],\n",
       "         [0.6254]]])"
      ]
     },
     "execution_count": 12,
     "metadata": {},
     "output_type": "execute_result"
    }
   ],
   "source": [
    "# 6. 크기가 (3,1)인 랜덤한 텐서를 만들고 네 벌을 복사해 쌓으세요.\n",
    "x = torch.rand((3, 1))\n",
    "x = torch.stack([x]*4, 0)\n",
    "x"
   ]
  },
  {
   "cell_type": "code",
   "execution_count": 21,
   "id": "afd1b56e",
   "metadata": {},
   "outputs": [
    {
     "data": {
      "text/plain": [
       "tensor([[0.3295, 0.3295, 0.3295, 0.3295],\n",
       "        [0.3608, 0.3608, 0.3608, 0.3608],\n",
       "        [0.5789, 0.5789, 0.5789, 0.5789]])"
      ]
     },
     "execution_count": 21,
     "metadata": {},
     "output_type": "execute_result"
    }
   ],
   "source": [
    "x = torch.rand(3, 1)\n",
    "x.expand(3, 4)"
   ]
  },
  {
   "cell_type": "code",
   "execution_count": 23,
   "id": "9d5bf9ec",
   "metadata": {},
   "outputs": [
    {
     "data": {
      "text/plain": [
       "tensor([[[1.3906, 1.9315, 1.5575, 1.1526],\n",
       "         [2.0519, 1.4531, 1.7263, 0.8069],\n",
       "         [1.4484, 1.3829, 1.6504, 0.9801],\n",
       "         [2.5863, 2.4270, 2.7142, 1.4527]],\n",
       "\n",
       "        [[0.8904, 1.2216, 0.8538, 1.2778],\n",
       "         [1.2734, 1.7087, 1.4265, 1.7703],\n",
       "         [1.2523, 1.9375, 1.6872, 1.8705],\n",
       "         [0.4553, 0.9144, 0.7678, 0.7535]],\n",
       "\n",
       "        [[0.6112, 0.3331, 1.4809, 0.9852],\n",
       "         [1.0773, 0.8675, 2.0324, 1.7035],\n",
       "         [1.0813, 0.9587, 2.1500, 1.7063],\n",
       "         [1.0993, 1.7213, 2.4321, 1.7480]]])"
      ]
     },
     "execution_count": 23,
     "metadata": {},
     "output_type": "execute_result"
    }
   ],
   "source": [
    "# 7. 2차원 행렬 두 개 (a=torch.rand(3,4,5), b=torch.rand(3,5,4))의 배치 행렬 곱셈을 계산하세요.\n",
    "a = torch.rand(3,4,5)\n",
    "b = torch.rand(3,5,4)\n",
    "res = torch.bmm(a, b)\n",
    "res"
   ]
  },
  {
   "cell_type": "code",
   "execution_count": 26,
   "id": "44dcc21f",
   "metadata": {},
   "outputs": [
    {
     "data": {
      "text/plain": [
       "tensor([[[1.3652, 1.0599, 1.1380, 0.8087],\n",
       "         [1.7318, 0.8234, 1.6781, 1.6140],\n",
       "         [0.9132, 0.6925, 1.1813, 0.7703],\n",
       "         [1.4187, 0.8187, 1.2971, 1.0243]],\n",
       "\n",
       "        [[1.7588, 1.1413, 1.4127, 0.7713],\n",
       "         [1.2041, 0.7323, 1.3086, 1.3736],\n",
       "         [1.6636, 1.5186, 2.2179, 1.7150],\n",
       "         [1.4576, 1.1128, 1.4608, 0.9451]],\n",
       "\n",
       "        [[1.7739, 1.3062, 1.8004, 1.0411],\n",
       "         [1.2061, 1.2641, 1.8013, 1.1699],\n",
       "         [1.4993, 1.2126, 1.6730, 1.3353],\n",
       "         [1.8697, 1.2619, 1.9439, 1.5888]]])"
      ]
     },
     "execution_count": 26,
     "metadata": {},
     "output_type": "execute_result"
    }
   ],
   "source": [
    "# 8. 3차원 행렬 (a=torch.rand(3,4,5))과 2차원 행렬 (b=torch.rand(5,4))의 배치 행렬 곱셈을 계산하세요.\n",
    "a = torch.rand(3,4,5)\n",
    "b = torch.rand(5,4)\n",
    "res = torch.matmul(a, b)\n",
    "res"
   ]
  },
  {
   "cell_type": "code",
   "execution_count": 13,
   "id": "4cac07a0",
   "metadata": {},
   "outputs": [
    {
     "data": {
      "text/plain": [
       "tensor([[[1.7256, 1.0742, 1.6607, 1.9475],\n",
       "         [0.8587, 0.7538, 1.1936, 1.2303],\n",
       "         [1.7655, 1.5670, 2.2563, 1.6165],\n",
       "         [0.6104, 0.7239, 1.0427, 0.7171]],\n",
       "\n",
       "        [[0.3094, 0.4853, 0.6300, 0.3329],\n",
       "         [1.1839, 1.0185, 1.2982, 1.1875],\n",
       "         [1.4582, 1.3001, 1.7810, 1.3763],\n",
       "         [1.2042, 1.0789, 1.5162, 1.2835]],\n",
       "\n",
       "        [[0.3071, 0.3185, 0.4788, 0.3478],\n",
       "         [1.4211, 1.1516, 1.5224, 1.4276],\n",
       "         [0.3865, 0.7203, 0.9040, 0.3751],\n",
       "         [0.7061, 0.5700, 0.8413, 0.7610]]])"
      ]
     },
     "execution_count": 13,
     "metadata": {},
     "output_type": "execute_result"
    }
   ],
   "source": [
    "a = torch.rand(3,4,5)\n",
    "b = torch.rand(5,4)\n",
    "res = torch.bmm(a, b.unsqueeze(0).expand(a.size(0), *b.size()))\n",
    "res"
   ]
  },
  {
   "cell_type": "code",
   "execution_count": 14,
   "id": "82b3c6a7",
   "metadata": {},
   "outputs": [
    {
     "data": {
      "text/plain": [
       "torch.Size([5, 4])"
      ]
     },
     "execution_count": 14,
     "metadata": {},
     "output_type": "execute_result"
    }
   ],
   "source": [
    "b.size()"
   ]
  },
  {
   "cell_type": "code",
   "execution_count": null,
   "id": "93235f9d",
   "metadata": {},
   "outputs": [],
   "source": []
  },
  {
   "cell_type": "code",
   "execution_count": null,
   "id": "10e156c4",
   "metadata": {},
   "outputs": [],
   "source": [
    "# The asterisk (*) can be used in python to unpack a list into its individual elements, thus passing to view the correct form of input arguments it expects."
   ]
  }
 ],
 "metadata": {
  "kernelspec": {
   "display_name": "nlp",
   "language": "python",
   "name": "nlp"
  },
  "language_info": {
   "codemirror_mode": {
    "name": "ipython",
    "version": 3
   },
   "file_extension": ".py",
   "mimetype": "text/x-python",
   "name": "python",
   "nbconvert_exporter": "python",
   "pygments_lexer": "ipython3",
   "version": "3.8.8"
  }
 },
 "nbformat": 4,
 "nbformat_minor": 5
}
