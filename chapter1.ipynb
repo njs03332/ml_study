{
 "cells": [
  {
   "cell_type": "code",
   "execution_count": 1,
   "id": "83bfc194",
   "metadata": {
    "ExecuteTime": {
     "end_time": "2021-10-07T13:14:53.734021Z",
     "start_time": "2021-10-07T13:14:52.505541Z"
    }
   },
   "outputs": [],
   "source": [
    "import torch\n",
    "import numpy as np"
   ]
  },
  {
   "cell_type": "markdown",
   "id": "dab362cc",
   "metadata": {},
   "source": [
    "# Chapter 1"
   ]
  },
  {
   "cell_type": "markdown",
   "id": "1b18fd7c",
   "metadata": {},
   "source": [
    "## Creating Tensors"
   ]
  },
  {
   "cell_type": "code",
   "execution_count": 2,
   "id": "40f81619",
   "metadata": {
    "ExecuteTime": {
     "end_time": "2021-10-07T13:14:53.741460Z",
     "start_time": "2021-10-07T13:14:53.737414Z"
    }
   },
   "outputs": [],
   "source": [
    "def describe(x):\n",
    "    print(\"Type: {}\".format(x.type()))\n",
    "    print(\"Shape/size: {}\".format(x.shape))\n",
    "    print(\"Values: \\n{}\".format(x))"
   ]
  },
  {
   "cell_type": "code",
   "execution_count": 3,
   "id": "75b47ed1",
   "metadata": {
    "ExecuteTime": {
     "end_time": "2021-10-07T13:14:53.757002Z",
     "start_time": "2021-10-07T13:14:53.744869Z"
    }
   },
   "outputs": [
    {
     "name": "stdout",
     "output_type": "stream",
     "text": [
      "Type: torch.FloatTensor\n",
      "Shape/size: torch.Size([2, 3])\n",
      "Values: \n",
      "tensor([[1.9990e-19, 1.7537e+19, 1.7859e+31],\n",
      "        [1.4607e-19, 2.0704e-19, 1.7111e+19]])\n",
      "Type: torch.FloatTensor\n",
      "Shape/size: torch.Size([2, 3])\n",
      "Values: \n",
      "tensor([[0.6568, 0.9453, 0.1814],\n",
      "        [0.6015, 0.2701, 0.3886]])\n",
      "Type: torch.FloatTensor\n",
      "Shape/size: torch.Size([2, 3])\n",
      "Values: \n",
      "tensor([[ 1.5541, -2.5673, -0.1949],\n",
      "        [-1.4281,  0.1442,  0.5950]])\n"
     ]
    }
   ],
   "source": [
    "# creating a tensor in PyTorch with torch.Tensor\n",
    "describe(torch.Tensor(2, 3))\n",
    "describe(torch.rand(2, 3)) # uniform random\n",
    "describe(torch.randn(2, 3)) # random normal"
   ]
  },
  {
   "cell_type": "code",
   "execution_count": 4,
   "id": "519c42f3",
   "metadata": {
    "ExecuteTime": {
     "end_time": "2021-10-07T13:14:53.769824Z",
     "start_time": "2021-10-07T13:14:53.759889Z"
    }
   },
   "outputs": [
    {
     "name": "stdout",
     "output_type": "stream",
     "text": [
      "Type: torch.FloatTensor\n",
      "Shape/size: torch.Size([2, 3])\n",
      "Values: \n",
      "tensor([[0., 0., 0.],\n",
      "        [0., 0., 0.]])\n",
      "Type: torch.FloatTensor\n",
      "Shape/size: torch.Size([2, 3])\n",
      "Values: \n",
      "tensor([[1., 1., 1.],\n",
      "        [1., 1., 1.]])\n",
      "Type: torch.FloatTensor\n",
      "Shape/size: torch.Size([2, 3])\n",
      "Values: \n",
      "tensor([[5., 5., 5.],\n",
      "        [5., 5., 5.]])\n"
     ]
    }
   ],
   "source": [
    "# creating a filled tensor\n",
    "describe(torch.zeros(2, 3))\n",
    "\n",
    "x = torch.ones(2, 3)\n",
    "describe(x)\n",
    "\n",
    "x.fill_(5)\n",
    "describe(x)"
   ]
  },
  {
   "cell_type": "code",
   "execution_count": 5,
   "id": "6b696f90",
   "metadata": {
    "ExecuteTime": {
     "end_time": "2021-10-07T13:14:53.779419Z",
     "start_time": "2021-10-07T13:14:53.772449Z"
    }
   },
   "outputs": [
    {
     "name": "stdout",
     "output_type": "stream",
     "text": [
      "Type: torch.FloatTensor\n",
      "Shape/size: torch.Size([2, 3])\n",
      "Values: \n",
      "tensor([[1., 2., 3.],\n",
      "        [4., 5., 6.]])\n"
     ]
    }
   ],
   "source": [
    "# creating and initializing a tensor from lists\n",
    "x = torch.Tensor([[1, 2, 3],\n",
    "                 [4, 5, 6]])\n",
    "describe(x)"
   ]
  },
  {
   "cell_type": "code",
   "execution_count": 6,
   "id": "d59d7525",
   "metadata": {
    "ExecuteTime": {
     "end_time": "2021-10-07T13:14:53.787162Z",
     "start_time": "2021-10-07T13:14:53.781957Z"
    }
   },
   "outputs": [
    {
     "name": "stdout",
     "output_type": "stream",
     "text": [
      "Type: torch.DoubleTensor\n",
      "Shape/size: torch.Size([2, 3])\n",
      "Values: \n",
      "tensor([[0.9056, 0.9426, 0.4570],\n",
      "        [0.4351, 0.7793, 0.8420]], dtype=torch.float64)\n"
     ]
    }
   ],
   "source": [
    "# creating an initializing a tensor from NumPy\n",
    "npy = np.random.rand(2, 3)\n",
    "describe(torch.from_numpy(npy))"
   ]
  },
  {
   "cell_type": "code",
   "execution_count": null,
   "id": "b052546e",
   "metadata": {
    "ExecuteTime": {
     "end_time": "2021-10-07T10:29:26.242003Z",
     "start_time": "2021-10-07T10:29:26.235532Z"
    }
   },
   "outputs": [],
   "source": []
  },
  {
   "cell_type": "code",
   "execution_count": null,
   "id": "d7f50095",
   "metadata": {
    "ExecuteTime": {
     "end_time": "2021-10-07T10:29:35.472441Z",
     "start_time": "2021-10-07T10:29:35.464236Z"
    }
   },
   "outputs": [],
   "source": []
  },
  {
   "cell_type": "code",
   "execution_count": null,
   "id": "031a78e4",
   "metadata": {
    "ExecuteTime": {
     "end_time": "2021-10-07T10:29:44.391884Z",
     "start_time": "2021-10-07T10:29:44.387411Z"
    }
   },
   "outputs": [],
   "source": []
  },
  {
   "cell_type": "code",
   "execution_count": 7,
   "id": "e5717d9d",
   "metadata": {
    "ExecuteTime": {
     "end_time": "2021-10-07T13:14:53.799817Z",
     "start_time": "2021-10-07T13:14:53.789207Z"
    }
   },
   "outputs": [
    {
     "name": "stdout",
     "output_type": "stream",
     "text": [
      "Type: torch.FloatTensor\n",
      "Shape/size: torch.Size([2, 3])\n",
      "Values: \n",
      "tensor([[1., 2., 3.],\n",
      "        [4., 5., 6.]])\n",
      "Type: torch.LongTensor\n",
      "Shape/size: torch.Size([2, 3])\n",
      "Values: \n",
      "tensor([[1, 2, 3],\n",
      "        [4, 5, 6]])\n",
      "Type: torch.LongTensor\n",
      "Shape/size: torch.Size([2, 3])\n",
      "Values: \n",
      "tensor([[1, 2, 3],\n",
      "        [4, 5, 6]])\n",
      "Type: torch.FloatTensor\n",
      "Shape/size: torch.Size([2, 3])\n",
      "Values: \n",
      "tensor([[1., 2., 3.],\n",
      "        [4., 5., 6.]])\n"
     ]
    }
   ],
   "source": [
    "# tensor properties\n",
    "x = torch.FloatTensor([[1, 2, 3],  \n",
    "                       [4, 5, 6]])\n",
    "describe(x)\n",
    "\n",
    "x = x.long()\n",
    "describe(x)\n",
    "\n",
    "x = torch.tensor([[1, 2, 3], \n",
    "                  [4, 5, 6]], dtype=torch.int64)\n",
    "describe(x)\n",
    "\n",
    "x = x.float() \n",
    "describe(x)"
   ]
  },
  {
   "cell_type": "markdown",
   "id": "2f2007c8",
   "metadata": {},
   "source": [
    "## Tensor Operations"
   ]
  },
  {
   "cell_type": "code",
   "execution_count": 8,
   "id": "a4dc4b51",
   "metadata": {
    "ExecuteTime": {
     "end_time": "2021-10-07T13:14:53.806815Z",
     "start_time": "2021-10-07T13:14:53.802045Z"
    }
   },
   "outputs": [
    {
     "name": "stdout",
     "output_type": "stream",
     "text": [
      "Type: torch.FloatTensor\n",
      "Shape/size: torch.Size([2, 3])\n",
      "Values: \n",
      "tensor([[-0.9883, -0.3736, -0.3680],\n",
      "        [-2.1623,  0.0303,  0.2308]])\n"
     ]
    }
   ],
   "source": [
    "x = torch.randn(2, 3) \n",
    "describe(x)"
   ]
  },
  {
   "cell_type": "code",
   "execution_count": 9,
   "id": "7c4323f5",
   "metadata": {
    "ExecuteTime": {
     "end_time": "2021-10-07T13:14:53.813745Z",
     "start_time": "2021-10-07T13:14:53.808636Z"
    }
   },
   "outputs": [
    {
     "name": "stdout",
     "output_type": "stream",
     "text": [
      "Type: torch.FloatTensor\n",
      "Shape/size: torch.Size([2, 3])\n",
      "Values: \n",
      "tensor([[-1.9765, -0.7471, -0.7361],\n",
      "        [-4.3245,  0.0606,  0.4615]])\n"
     ]
    }
   ],
   "source": [
    "describe(torch.add(x, x))"
   ]
  },
  {
   "cell_type": "code",
   "execution_count": 10,
   "id": "fedc8ed7",
   "metadata": {
    "ExecuteTime": {
     "end_time": "2021-10-07T13:14:53.823749Z",
     "start_time": "2021-10-07T13:14:53.818551Z"
    }
   },
   "outputs": [
    {
     "name": "stdout",
     "output_type": "stream",
     "text": [
      "Type: torch.FloatTensor\n",
      "Shape/size: torch.Size([2, 3])\n",
      "Values: \n",
      "tensor([[-1.9765, -0.7471, -0.7361],\n",
      "        [-4.3245,  0.0606,  0.4615]])\n"
     ]
    }
   ],
   "source": [
    "describe(x + x)"
   ]
  },
  {
   "cell_type": "code",
   "execution_count": 11,
   "id": "6a2799ad",
   "metadata": {
    "ExecuteTime": {
     "end_time": "2021-10-07T13:14:53.832704Z",
     "start_time": "2021-10-07T13:14:53.826215Z"
    }
   },
   "outputs": [
    {
     "name": "stdout",
     "output_type": "stream",
     "text": [
      "Type: torch.LongTensor\n",
      "Shape/size: torch.Size([2, 3])\n",
      "Values: \n",
      "tensor([[0, 1, 2],\n",
      "        [3, 4, 5]])\n"
     ]
    }
   ],
   "source": [
    "# dimension-based tensor operations\n",
    "x = torch.arange(6).view(2, 3)\n",
    "describe(x)"
   ]
  },
  {
   "cell_type": "code",
   "execution_count": 12,
   "id": "23a2f8c3",
   "metadata": {
    "ExecuteTime": {
     "end_time": "2021-10-07T13:14:53.844248Z",
     "start_time": "2021-10-07T13:14:53.835816Z"
    }
   },
   "outputs": [
    {
     "name": "stdout",
     "output_type": "stream",
     "text": [
      "Type: torch.LongTensor\n",
      "Shape/size: torch.Size([2, 3])\n",
      "Values: \n",
      "tensor([[0, 1, 2],\n",
      "        [3, 4, 5]])\n"
     ]
    }
   ],
   "source": [
    "x = x.view(2, 3)\n",
    "describe(x)"
   ]
  },
  {
   "cell_type": "code",
   "execution_count": 13,
   "id": "12fb597b",
   "metadata": {
    "ExecuteTime": {
     "end_time": "2021-10-07T13:14:53.856621Z",
     "start_time": "2021-10-07T13:14:53.847364Z"
    }
   },
   "outputs": [
    {
     "name": "stdout",
     "output_type": "stream",
     "text": [
      "Type: torch.LongTensor\n",
      "Shape/size: torch.Size([3])\n",
      "Values: \n",
      "tensor([3, 5, 7])\n",
      "Type: torch.LongTensor\n",
      "Shape/size: torch.Size([2])\n",
      "Values: \n",
      "tensor([ 3, 12])\n"
     ]
    }
   ],
   "source": [
    "describe(torch.sum(x, dim=0)) # column sums\n",
    "describe(torch.sum(x, dim=1)) # row sums"
   ]
  },
  {
   "cell_type": "code",
   "execution_count": 14,
   "id": "aee05adf",
   "metadata": {
    "ExecuteTime": {
     "end_time": "2021-10-07T13:14:53.864431Z",
     "start_time": "2021-10-07T13:14:53.859357Z"
    },
    "scrolled": true
   },
   "outputs": [
    {
     "name": "stdout",
     "output_type": "stream",
     "text": [
      "Type: torch.LongTensor\n",
      "Shape/size: torch.Size([3, 2])\n",
      "Values: \n",
      "tensor([[0, 3],\n",
      "        [1, 4],\n",
      "        [2, 5]])\n"
     ]
    }
   ],
   "source": [
    "describe(torch.transpose(x, 0, 1))"
   ]
  },
  {
   "cell_type": "markdown",
   "id": "b71f8039",
   "metadata": {},
   "source": [
    "## Indexing, Slicing, and Joining"
   ]
  },
  {
   "cell_type": "code",
   "execution_count": 15,
   "id": "19d4422f",
   "metadata": {
    "ExecuteTime": {
     "end_time": "2021-10-07T13:14:53.876319Z",
     "start_time": "2021-10-07T13:14:53.867004Z"
    }
   },
   "outputs": [
    {
     "name": "stdout",
     "output_type": "stream",
     "text": [
      "Type: torch.LongTensor\n",
      "Shape/size: torch.Size([2, 3])\n",
      "Values: \n",
      "tensor([[0, 1, 2],\n",
      "        [3, 4, 5]])\n",
      "Type: torch.LongTensor\n",
      "Shape/size: torch.Size([1, 2])\n",
      "Values: \n",
      "tensor([[0, 1]])\n",
      "Type: torch.LongTensor\n",
      "Shape/size: torch.Size([])\n",
      "Values: \n",
      "1\n"
     ]
    }
   ],
   "source": [
    "x = torch.arange(6).view(2, 3)\n",
    "describe(x)\n",
    "describe(x[:1, :2])\n",
    "describe(x[0, 1])"
   ]
  },
  {
   "cell_type": "code",
   "execution_count": 16,
   "id": "c3bd7cba",
   "metadata": {
    "ExecuteTime": {
     "end_time": "2021-10-07T13:14:53.885604Z",
     "start_time": "2021-10-07T13:14:53.878884Z"
    }
   },
   "outputs": [
    {
     "name": "stdout",
     "output_type": "stream",
     "text": [
      "Type: torch.LongTensor\n",
      "Shape/size: torch.Size([2, 2])\n",
      "Values: \n",
      "tensor([[0, 2],\n",
      "        [3, 5]])\n"
     ]
    }
   ],
   "source": [
    "indices = torch.LongTensor([0, 2])\n",
    "describe(torch.index_select(x, dim=1, index=indices)) # col 0, 2 from x"
   ]
  },
  {
   "cell_type": "code",
   "execution_count": 17,
   "id": "36e2539d",
   "metadata": {
    "ExecuteTime": {
     "end_time": "2021-10-07T13:14:53.895755Z",
     "start_time": "2021-10-07T13:14:53.889483Z"
    }
   },
   "outputs": [
    {
     "name": "stdout",
     "output_type": "stream",
     "text": [
      "Type: torch.LongTensor\n",
      "Shape/size: torch.Size([2, 3])\n",
      "Values: \n",
      "tensor([[0, 1, 2],\n",
      "        [0, 1, 2]])\n"
     ]
    }
   ],
   "source": [
    "indices = torch.LongTensor([0, 0])\n",
    "describe(torch.index_select(x, dim=0, index=indices)) # row 0 from x"
   ]
  },
  {
   "cell_type": "code",
   "execution_count": 18,
   "id": "abd7d21e",
   "metadata": {
    "ExecuteTime": {
     "end_time": "2021-10-07T13:14:53.905917Z",
     "start_time": "2021-10-07T13:14:53.899369Z"
    }
   },
   "outputs": [
    {
     "name": "stdout",
     "output_type": "stream",
     "text": [
      "Type: torch.LongTensor\n",
      "Shape/size: torch.Size([2])\n",
      "Values: \n",
      "tensor([0, 4])\n"
     ]
    }
   ],
   "source": [
    "row_indices = torch.arange(2).long()\n",
    "col_indices = torch.LongTensor([0, 1])\n",
    "describe(x[row_indices, col_indices]) # (0, 0) and (1, 1)"
   ]
  },
  {
   "cell_type": "code",
   "execution_count": 19,
   "id": "b1c2e025",
   "metadata": {
    "ExecuteTime": {
     "end_time": "2021-10-07T13:14:53.912223Z",
     "start_time": "2021-10-07T13:14:53.908528Z"
    }
   },
   "outputs": [],
   "source": [
    "# concatenating tensors"
   ]
  },
  {
   "cell_type": "code",
   "execution_count": 20,
   "id": "b636ac71",
   "metadata": {
    "ExecuteTime": {
     "end_time": "2021-10-07T13:14:53.922727Z",
     "start_time": "2021-10-07T13:14:53.915341Z"
    }
   },
   "outputs": [
    {
     "name": "stdout",
     "output_type": "stream",
     "text": [
      "Type: torch.LongTensor\n",
      "Shape/size: torch.Size([4, 3])\n",
      "Values: \n",
      "tensor([[0, 1, 2],\n",
      "        [3, 4, 5],\n",
      "        [0, 1, 2],\n",
      "        [3, 4, 5]])\n"
     ]
    }
   ],
   "source": [
    "describe(torch.cat([x, x], dim=0))"
   ]
  },
  {
   "cell_type": "code",
   "execution_count": 21,
   "id": "6322a851",
   "metadata": {
    "ExecuteTime": {
     "end_time": "2021-10-07T13:14:53.938403Z",
     "start_time": "2021-10-07T13:14:53.926063Z"
    }
   },
   "outputs": [
    {
     "name": "stdout",
     "output_type": "stream",
     "text": [
      "Type: torch.LongTensor\n",
      "Shape/size: torch.Size([2, 6])\n",
      "Values: \n",
      "tensor([[0, 1, 2, 0, 1, 2],\n",
      "        [3, 4, 5, 3, 4, 5]])\n"
     ]
    }
   ],
   "source": [
    "describe(torch.cat([x, x], dim=1))"
   ]
  },
  {
   "cell_type": "code",
   "execution_count": 22,
   "id": "8ab62384",
   "metadata": {
    "ExecuteTime": {
     "end_time": "2021-10-07T13:14:53.947095Z",
     "start_time": "2021-10-07T13:14:53.940983Z"
    }
   },
   "outputs": [
    {
     "name": "stdout",
     "output_type": "stream",
     "text": [
      "Type: torch.LongTensor\n",
      "Shape/size: torch.Size([2, 2, 3])\n",
      "Values: \n",
      "tensor([[[0, 1, 2],\n",
      "         [3, 4, 5]],\n",
      "\n",
      "        [[0, 1, 2],\n",
      "         [3, 4, 5]]])\n"
     ]
    }
   ],
   "source": [
    "describe(torch.stack([x, x]))"
   ]
  },
  {
   "cell_type": "code",
   "execution_count": 23,
   "id": "71fc1143",
   "metadata": {
    "ExecuteTime": {
     "end_time": "2021-10-07T13:14:53.974711Z",
     "start_time": "2021-10-07T13:14:53.949910Z"
    }
   },
   "outputs": [
    {
     "name": "stdout",
     "output_type": "stream",
     "text": [
      "Type: torch.FloatTensor\n",
      "Shape/size: torch.Size([2, 3])\n",
      "Values: \n",
      "tensor([[0., 1., 2.],\n",
      "        [3., 4., 5.]])\n",
      "Type: torch.FloatTensor\n",
      "Shape/size: torch.Size([3, 2])\n",
      "Values: \n",
      "tensor([[1., 2.],\n",
      "        [1., 2.],\n",
      "        [1., 2.]])\n",
      "Type: torch.FloatTensor\n",
      "Shape/size: torch.Size([2, 2])\n",
      "Values: \n",
      "tensor([[ 3.,  6.],\n",
      "        [12., 24.]])\n"
     ]
    }
   ],
   "source": [
    "# linear algebra on tensors: multiplication\n",
    "x1 = torch.arange(6.0).view(2, 3)\n",
    "describe(x1)\n",
    "\n",
    "x2 = torch.ones(3, 2)\n",
    "x2[:, 1] += 1\n",
    "describe(x2)\n",
    "\n",
    "describe(torch.mm(x1, x2))"
   ]
  },
  {
   "cell_type": "code",
   "execution_count": 24,
   "id": "c0d3a946",
   "metadata": {
    "ExecuteTime": {
     "end_time": "2021-10-07T13:14:53.982167Z",
     "start_time": "2021-10-07T13:14:53.978303Z"
    }
   },
   "outputs": [],
   "source": [
    "# creating tensors for gradient bookkeeping"
   ]
  },
  {
   "cell_type": "markdown",
   "id": "772a9b36",
   "metadata": {},
   "source": [
    "## Tensors and Computational Graphs"
   ]
  },
  {
   "cell_type": "markdown",
   "id": "cf7f1a3d",
   "metadata": {
    "ExecuteTime": {
     "end_time": "2021-10-07T10:49:49.217799Z",
     "start_time": "2021-10-07T10:49:49.211699Z"
    }
   },
   "source": [
    "PyTorch tensor class encapsulates the data \n",
    "(the tensor itself) and a range of operations, \n",
    "such as algebraic operations, indexing, and reshaping operations. \n",
    "However, when the `requires_grad` Boolean flag is set to True on a tensor, \n",
    "bookkeeping operations are enabled that can track \n",
    "the gradient at the tensor as well as the gradient function, \n",
    "both of which are needed to facilitate the gradient-based\n",
    "learning discussed in \"The Supervised Learning Paradigm\"."
   ]
  },
  {
   "cell_type": "markdown",
   "id": "d6183b4d",
   "metadata": {},
   "source": [
    "When you create a tensor with `requires_grad=True`, \n",
    "you are requiring PyTorch to manage bookkeeping information that computes gradients. First, PyTorch will keep track of the values of the forward pass. Then, at the end of the computations, a single scalar is used to compute a backward pass. The backward pass is initiated by using the `backward()` method on a tensor resulting from the evaluation of a loss function. The backward pass computes a gradient value for a tensor object that participated in the forward pass."
   ]
  },
  {
   "cell_type": "markdown",
   "id": "3d34f53f",
   "metadata": {},
   "source": [
    "In general, the gradient is a value that represents the slope of a function output with respect to the function input. In the computational graph setting, gradients exist for each parameter in the model and can be thought of as the parameter’s contribution to the error signal. In PyTorch, you can access the gradients for the nodes in the computational graph by using the `.grad` member variable. Optimizers use the `.grad` variable to update the values of the parameters."
   ]
  },
  {
   "cell_type": "code",
   "execution_count": 25,
   "id": "38d3ace3",
   "metadata": {
    "ExecuteTime": {
     "end_time": "2021-10-07T13:14:53.996266Z",
     "start_time": "2021-10-07T13:14:53.984781Z"
    }
   },
   "outputs": [
    {
     "name": "stdout",
     "output_type": "stream",
     "text": [
      "Type: torch.FloatTensor\n",
      "Shape/size: torch.Size([2, 2])\n",
      "Values: \n",
      "tensor([[1., 1.],\n",
      "        [1., 1.]], requires_grad=True)\n",
      "True\n"
     ]
    }
   ],
   "source": [
    "x = torch.ones(2, 2, requires_grad=True)\n",
    "describe(x)\n",
    "print(x.grad is None)"
   ]
  },
  {
   "cell_type": "code",
   "execution_count": null,
   "id": "65870e7b",
   "metadata": {},
   "outputs": [],
   "source": []
  },
  {
   "cell_type": "code",
   "execution_count": 26,
   "id": "56e835c3",
   "metadata": {
    "ExecuteTime": {
     "end_time": "2021-10-07T13:14:54.011724Z",
     "start_time": "2021-10-07T13:14:54.002339Z"
    }
   },
   "outputs": [
    {
     "name": "stdout",
     "output_type": "stream",
     "text": [
      "Type: torch.FloatTensor\n",
      "Shape/size: torch.Size([2, 2])\n",
      "Values: \n",
      "tensor([[21., 21.],\n",
      "        [21., 21.]], grad_fn=<AddBackward0>)\n",
      "True\n"
     ]
    }
   ],
   "source": [
    "y = (x + 2) * (x + 5) + 3\n",
    "describe(y)\n",
    "print(x.grad is None)"
   ]
  },
  {
   "cell_type": "code",
   "execution_count": 27,
   "id": "5ec60c53",
   "metadata": {
    "ExecuteTime": {
     "end_time": "2021-10-07T13:14:54.027239Z",
     "start_time": "2021-10-07T13:14:54.015452Z"
    }
   },
   "outputs": [
    {
     "name": "stdout",
     "output_type": "stream",
     "text": [
      "Type: torch.FloatTensor\n",
      "Shape/size: torch.Size([])\n",
      "Values: \n",
      "21.0\n",
      "False\n"
     ]
    }
   ],
   "source": [
    "z = y.mean()\n",
    "describe(z)\n",
    "z.backward()\n",
    "print(x.grad is None)"
   ]
  },
  {
   "cell_type": "markdown",
   "id": "eba78bef",
   "metadata": {},
   "source": [
    "## Computing Gradients"
   ]
  },
  {
   "cell_type": "markdown",
   "id": "2ec7d2f5",
   "metadata": {},
   "source": [
    "We create a tensor and multiply it by 3. Then, we create a scalar output using `sum()`. A Scalar output is needed as the the loss variable. Then, called backward on the loss means it computes its rate of change with respect to the inputs. Since the scalar was created with sum, each position in `z` and `x` are independent with respect to the loss scalar.\n",
    "\n",
    "The rate of change of `x` with respect to the output is just the constant 3 that we multiplied `x` by."
   ]
  },
  {
   "cell_type": "code",
   "execution_count": 28,
   "id": "831df5d4",
   "metadata": {
    "ExecuteTime": {
     "end_time": "2021-10-07T13:14:54.066874Z",
     "start_time": "2021-10-07T13:14:54.049221Z"
    }
   },
   "outputs": [
    {
     "name": "stdout",
     "output_type": "stream",
     "text": [
      "x: \n",
      " tensor([[2., 3.]], requires_grad=True)\n",
      "---\n",
      "z = 3*x: \n",
      " tensor([[6., 9.]], grad_fn=<MulBackward0>)\n",
      "---\n",
      "loss = z.sum(): \n",
      " tensor(15., grad_fn=<SumBackward0>)\n",
      "---\n",
      "after loss.backward(), x.grad: \n",
      " tensor([[3., 3.]])\n"
     ]
    }
   ],
   "source": [
    "x = torch.tensor([[2.0, 3.0]], requires_grad=True)\n",
    "print(\"x: \\n\", x)\n",
    "print(\"---\")\n",
    "z = 3 * x\n",
    "print(\"z = 3*x: \\n\", z)\n",
    "print(\"---\")\n",
    "\n",
    "loss = z.sum()\n",
    "print(\"loss = z.sum(): \\n\", loss)\n",
    "print(\"---\")\n",
    "\n",
    "loss.backward()\n",
    "\n",
    "print(\"after loss.backward(), x.grad: \\n\", x.grad)"
   ]
  },
  {
   "cell_type": "markdown",
   "id": "23a51678",
   "metadata": {},
   "source": [
    "### Example: Computing a conditional gradient"
   ]
  },
  {
   "cell_type": "code",
   "execution_count": 29,
   "id": "00be0199",
   "metadata": {
    "ExecuteTime": {
     "end_time": "2021-10-07T13:14:54.073497Z",
     "start_time": "2021-10-07T13:14:54.070294Z"
    }
   },
   "outputs": [],
   "source": [
    "def f(x):\n",
    "    if (x.data > 0).all():\n",
    "        return torch.sin(x)\n",
    "    else:\n",
    "        return torch.cos(x)"
   ]
  },
  {
   "cell_type": "code",
   "execution_count": 30,
   "id": "09d27405",
   "metadata": {
    "ExecuteTime": {
     "end_time": "2021-10-07T13:14:54.083959Z",
     "start_time": "2021-10-07T13:14:54.076571Z"
    }
   },
   "outputs": [
    {
     "name": "stdout",
     "output_type": "stream",
     "text": [
      "tensor([0.5403])\n"
     ]
    }
   ],
   "source": [
    "x = torch.tensor([1.0], requires_grad=True)\n",
    "y = f(x)\n",
    "y.backward()\n",
    "print(x.grad)"
   ]
  },
  {
   "cell_type": "code",
   "execution_count": 31,
   "id": "a9ff981a",
   "metadata": {
    "ExecuteTime": {
     "end_time": "2021-10-07T13:14:54.093589Z",
     "start_time": "2021-10-07T13:14:54.087589Z"
    }
   },
   "outputs": [],
   "source": [
    "# x = torch.tensor([1.0, 0.5], requires_grad=True)\n",
    "# y = f(x)\n",
    "# y.backward() # doesn't work\n",
    "# print(x.grad)"
   ]
  },
  {
   "cell_type": "code",
   "execution_count": 32,
   "id": "2f1765d8",
   "metadata": {
    "ExecuteTime": {
     "end_time": "2021-10-07T13:14:54.107645Z",
     "start_time": "2021-10-07T13:14:54.096782Z"
    }
   },
   "outputs": [
    {
     "name": "stdout",
     "output_type": "stream",
     "text": [
      "tensor([0.5403, 0.8776])\n"
     ]
    }
   ],
   "source": [
    "x = torch.tensor([1.0, 0.5], requires_grad=True)\n",
    "y = f(x)\n",
    "y.sum().backward() # scalar output\n",
    "print(x.grad)"
   ]
  },
  {
   "cell_type": "code",
   "execution_count": 33,
   "id": "f70aa43b",
   "metadata": {
    "ExecuteTime": {
     "end_time": "2021-10-07T13:14:54.117225Z",
     "start_time": "2021-10-07T13:14:54.110602Z"
    }
   },
   "outputs": [
    {
     "name": "stdout",
     "output_type": "stream",
     "text": [
      "tensor([-0.8415,  0.8415])\n"
     ]
    }
   ],
   "source": [
    "# edge case\n",
    "x = torch.tensor([1.0, -1], requires_grad=True)\n",
    "y = f(x)\n",
    "y.sum().backward()\n",
    "print(x.grad)"
   ]
  },
  {
   "cell_type": "code",
   "execution_count": 34,
   "id": "57d3c4e3",
   "metadata": {
    "ExecuteTime": {
     "end_time": "2021-10-07T13:14:54.126958Z",
     "start_time": "2021-10-07T13:14:54.120059Z"
    }
   },
   "outputs": [
    {
     "name": "stdout",
     "output_type": "stream",
     "text": [
      "tensor([0.4794, 0.8415])\n"
     ]
    }
   ],
   "source": [
    "x = torch.tensor([-0.5, -1], requires_grad=True)\n",
    "y = f(x)\n",
    "y.sum().backward()\n",
    "print(x.grad)"
   ]
  },
  {
   "cell_type": "markdown",
   "id": "5f402229",
   "metadata": {},
   "source": [
    "This is because we aren't doing the boolean computation and subsequent application of cos and sin on an elementwise basis. So, to solve this, it is common to use masking:"
   ]
  },
  {
   "cell_type": "code",
   "execution_count": 35,
   "id": "8702a8d3",
   "metadata": {
    "ExecuteTime": {
     "end_time": "2021-10-07T13:14:54.134070Z",
     "start_time": "2021-10-07T13:14:54.129764Z"
    }
   },
   "outputs": [],
   "source": [
    "def f2(x):\n",
    "    mask = torch.gt(x, 0).float()\n",
    "    return mask * torch.sin(x) + (1 - mask) * torch.cos(x)"
   ]
  },
  {
   "cell_type": "code",
   "execution_count": 36,
   "id": "97ef89b3",
   "metadata": {
    "ExecuteTime": {
     "end_time": "2021-10-07T13:14:54.143923Z",
     "start_time": "2021-10-07T13:14:54.136668Z"
    }
   },
   "outputs": [
    {
     "name": "stdout",
     "output_type": "stream",
     "text": [
      "tensor([0.5403, 0.8415])\n"
     ]
    }
   ],
   "source": [
    "x = torch.tensor([1.0, -1], requires_grad=True)\n",
    "y = f2(x)\n",
    "y.sum().backward()\n",
    "print(x.grad)"
   ]
  },
  {
   "cell_type": "code",
   "execution_count": 37,
   "id": "4c332b88",
   "metadata": {
    "ExecuteTime": {
     "end_time": "2021-10-07T13:14:54.151118Z",
     "start_time": "2021-10-07T13:14:54.147455Z"
    }
   },
   "outputs": [],
   "source": [
    "def describe_grad(x):\n",
    "    if x.grad is None:\n",
    "        print(\"No gradient information\")\n",
    "    else:\n",
    "        print(\"Gradient: \\n{}\".format(x.grad))\n",
    "        print(\"Gradient Function: {}\".format(x.grad_fn))"
   ]
  },
  {
   "cell_type": "code",
   "execution_count": 38,
   "id": "a34b241d",
   "metadata": {
    "ExecuteTime": {
     "end_time": "2021-10-07T13:14:54.169623Z",
     "start_time": "2021-10-07T13:14:54.153746Z"
    }
   },
   "outputs": [
    {
     "name": "stdout",
     "output_type": "stream",
     "text": [
      "Type: torch.FloatTensor\n",
      "Shape/size: torch.Size([2, 2])\n",
      "Values: \n",
      "tensor([[1., 1.],\n",
      "        [1., 1.]], requires_grad=True)\n",
      "No gradient information\n",
      "--------\n",
      "Type: torch.FloatTensor\n",
      "Shape/size: torch.Size([2, 2])\n",
      "Values: \n",
      "tensor([[21., 21.],\n",
      "        [21., 21.]], grad_fn=<AddBackward0>)\n",
      "Type: torch.FloatTensor\n",
      "Shape/size: torch.Size([])\n",
      "Values: \n",
      "21.0\n",
      "No gradient information\n",
      "--------\n",
      "Gradient: \n",
      "tensor([[2.2500, 2.2500],\n",
      "        [2.2500, 2.2500]], grad_fn=<CopyBackwards>)\n",
      "Gradient Function: None\n",
      "--------\n"
     ]
    }
   ],
   "source": [
    "x = torch.ones(2, 2, requires_grad=True)\n",
    "describe(x)\n",
    "describe_grad(x)\n",
    "print(\"--------\")\n",
    "\n",
    "y = (x + 2) * (x + 5) + 3\n",
    "describe(y)\n",
    "z = y.mean()\n",
    "describe(z)\n",
    "describe_grad(x)\n",
    "print(\"--------\")\n",
    "z.backward(create_graph=True, retain_graph=True)\n",
    "describe_grad(x)\n",
    "print(\"--------\")"
   ]
  },
  {
   "cell_type": "code",
   "execution_count": null,
   "id": "61746497",
   "metadata": {},
   "outputs": [],
   "source": []
  },
  {
   "cell_type": "markdown",
   "id": "87d9e862",
   "metadata": {
    "ExecuteTime": {
     "end_time": "2021-10-07T11:59:47.485001Z",
     "start_time": "2021-10-07T11:59:47.481679Z"
    }
   },
   "source": [
    "## Exercises"
   ]
  },
  {
   "cell_type": "markdown",
   "id": "6118d37c",
   "metadata": {},
   "source": [
    "1. Create a 2D tensor and then add a dimension of size 1 inserted at the 0th axis."
   ]
  },
  {
   "cell_type": "code",
   "execution_count": null,
   "id": "0b50a62a",
   "metadata": {},
   "outputs": [],
   "source": []
  },
  {
   "cell_type": "code",
   "execution_count": null,
   "id": "83ba185d",
   "metadata": {},
   "outputs": [],
   "source": []
  },
  {
   "cell_type": "markdown",
   "id": "0e07ba37",
   "metadata": {},
   "source": [
    "2. Remove the extra dimension you just added to the previous tensor."
   ]
  },
  {
   "cell_type": "code",
   "execution_count": null,
   "id": "2c5123b8",
   "metadata": {},
   "outputs": [],
   "source": []
  },
  {
   "cell_type": "code",
   "execution_count": null,
   "id": "ff66f76d",
   "metadata": {},
   "outputs": [],
   "source": []
  },
  {
   "cell_type": "markdown",
   "id": "6659eb0c",
   "metadata": {},
   "source": [
    "3. Create a random tensor of shape 5x3 in the interval [3, 7)"
   ]
  },
  {
   "cell_type": "code",
   "execution_count": null,
   "id": "323016fc",
   "metadata": {},
   "outputs": [],
   "source": []
  },
  {
   "cell_type": "code",
   "execution_count": null,
   "id": "f1ccc6a3",
   "metadata": {},
   "outputs": [],
   "source": []
  },
  {
   "cell_type": "markdown",
   "id": "b05740a0",
   "metadata": {},
   "source": [
    "4. Create a tensor with values from a normal distribution (mean=0, std=1)."
   ]
  },
  {
   "cell_type": "code",
   "execution_count": null,
   "id": "9662d40a",
   "metadata": {},
   "outputs": [],
   "source": []
  },
  {
   "cell_type": "code",
   "execution_count": null,
   "id": "81727179",
   "metadata": {},
   "outputs": [],
   "source": []
  },
  {
   "cell_type": "markdown",
   "id": "d645d7c8",
   "metadata": {},
   "source": [
    "5. Retrieve the indexes of all the non zero elements in the tensor torch.Tensor([1, 1, 1, 0, 1])."
   ]
  },
  {
   "cell_type": "code",
   "execution_count": null,
   "id": "017d7c98",
   "metadata": {},
   "outputs": [],
   "source": []
  },
  {
   "cell_type": "code",
   "execution_count": null,
   "id": "cd8612b3",
   "metadata": {},
   "outputs": [],
   "source": []
  },
  {
   "cell_type": "markdown",
   "id": "193b26a5",
   "metadata": {},
   "source": [
    "6. Create a random tensor of size (3,1) and then horizonally stack 4 copies together."
   ]
  },
  {
   "cell_type": "code",
   "execution_count": null,
   "id": "d7a2f8ca",
   "metadata": {},
   "outputs": [],
   "source": []
  },
  {
   "cell_type": "code",
   "execution_count": null,
   "id": "374908bf",
   "metadata": {},
   "outputs": [],
   "source": []
  },
  {
   "cell_type": "markdown",
   "id": "a035c56c",
   "metadata": {
    "ExecuteTime": {
     "end_time": "2021-10-07T12:01:19.324555Z",
     "start_time": "2021-10-07T12:01:19.320864Z"
    }
   },
   "source": [
    "7. Return the batch matrix-matrix product of two 3 dimensional matrices (a=torch.rand(3,4,5), b=torch.rand(3,5,4))."
   ]
  },
  {
   "cell_type": "code",
   "execution_count": null,
   "id": "777d32c6",
   "metadata": {},
   "outputs": [],
   "source": []
  },
  {
   "cell_type": "code",
   "execution_count": null,
   "id": "f850fc27",
   "metadata": {},
   "outputs": [],
   "source": []
  },
  {
   "cell_type": "markdown",
   "id": "3f1f25f8",
   "metadata": {},
   "source": [
    "8. Return the batch matrix-matrix product of a 3D matrix and a 2D matrix (a=torch.rand(3,4,5), b=torch.rand(5,4))."
   ]
  },
  {
   "cell_type": "code",
   "execution_count": null,
   "id": "d28bab14",
   "metadata": {},
   "outputs": [],
   "source": []
  },
  {
   "cell_type": "code",
   "execution_count": null,
   "id": "fb0d4aaa",
   "metadata": {},
   "outputs": [],
   "source": []
  },
  {
   "cell_type": "code",
   "execution_count": null,
   "id": "fb2fca5b",
   "metadata": {},
   "outputs": [],
   "source": []
  },
  {
   "cell_type": "code",
   "execution_count": null,
   "id": "78d4c4ff",
   "metadata": {},
   "outputs": [],
   "source": []
  },
  {
   "cell_type": "code",
   "execution_count": null,
   "id": "0dfaaf7d",
   "metadata": {},
   "outputs": [],
   "source": []
  },
  {
   "cell_type": "code",
   "execution_count": null,
   "id": "6220f03c",
   "metadata": {},
   "outputs": [],
   "source": []
  },
  {
   "cell_type": "code",
   "execution_count": null,
   "id": "34604e1d",
   "metadata": {},
   "outputs": [],
   "source": []
  },
  {
   "cell_type": "code",
   "execution_count": null,
   "id": "0b0d9911",
   "metadata": {},
   "outputs": [],
   "source": []
  },
  {
   "cell_type": "code",
   "execution_count": null,
   "id": "96a571b8",
   "metadata": {},
   "outputs": [],
   "source": []
  },
  {
   "cell_type": "code",
   "execution_count": null,
   "id": "4fbb3b2c",
   "metadata": {},
   "outputs": [],
   "source": []
  }
 ],
 "metadata": {
  "kernelspec": {
   "display_name": "torch",
   "language": "python",
   "name": "torch"
  },
  "language_info": {
   "codemirror_mode": {
    "name": "ipython",
    "version": 3
   },
   "file_extension": ".py",
   "mimetype": "text/x-python",
   "name": "python",
   "nbconvert_exporter": "python",
   "pygments_lexer": "ipython3",
   "version": "3.9.7"
  },
  "toc": {
   "base_numbering": 1,
   "nav_menu": {},
   "number_sections": true,
   "sideBar": true,
   "skip_h1_title": false,
   "title_cell": "Table of Contents",
   "title_sidebar": "Contents",
   "toc_cell": false,
   "toc_position": {
    "height": "calc(100% - 180px)",
    "left": "10px",
    "top": "150px",
    "width": "249px"
   },
   "toc_section_display": true,
   "toc_window_display": true
  },
  "varInspector": {
   "cols": {
    "lenName": 16,
    "lenType": 16,
    "lenVar": 40
   },
   "kernels_config": {
    "python": {
     "delete_cmd_postfix": "",
     "delete_cmd_prefix": "del ",
     "library": "var_list.py",
     "varRefreshCmd": "print(var_dic_list())"
    },
    "r": {
     "delete_cmd_postfix": ") ",
     "delete_cmd_prefix": "rm(",
     "library": "var_list.r",
     "varRefreshCmd": "cat(var_dic_list()) "
    }
   },
   "types_to_exclude": [
    "module",
    "function",
    "builtin_function_or_method",
    "instance",
    "_Feature"
   ],
   "window_display": false
  }
 },
 "nbformat": 4,
 "nbformat_minor": 5
}
