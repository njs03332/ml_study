{
 "cells": [
  {
   "cell_type": "code",
   "execution_count": 1,
   "id": "eec041eb",
   "metadata": {},
   "outputs": [],
   "source": [
    "import torch\n",
    "import numpy as np"
   ]
  },
  {
   "cell_type": "code",
   "execution_count": 4,
   "id": "d020ce1c",
   "metadata": {},
   "outputs": [],
   "source": [
    "def describe(x):\n",
    "    print(\"타입: {}\".format(x.type()))\n",
    "    print(\"크기: {}\".format(x.shape))\n",
    "    print(\"값: \\n{}\".format(x))"
   ]
  },
  {
   "cell_type": "code",
   "execution_count": 6,
   "id": "5dc1ad7b",
   "metadata": {},
   "outputs": [
    {
     "name": "stdout",
     "output_type": "stream",
     "text": [
      "타입: torch.FloatTensor\n",
      "크기: torch.Size([2, 3])\n",
      "값: \n",
      "tensor([[8.4078e-45, 2.0000e+00, 7.9057e+24],\n",
      "        [2.0005e+00, 1.3134e+22, 3.3585e-06]])\n"
     ]
    }
   ],
   "source": [
    "describe(torch.Tensor(2, 3))"
   ]
  },
  {
   "cell_type": "markdown",
   "id": "057257eb",
   "metadata": {},
   "source": [
    "---"
   ]
  },
  {
   "cell_type": "markdown",
   "id": "a3e8ea85",
   "metadata": {},
   "source": [
    "문제 1\n",
    "<br> 2D 텐서를 만들고 차원 0 위치에 크기가 1인 차원을 추가하세요."
   ]
  },
  {
   "cell_type": "code",
   "execution_count": 11,
   "id": "67c51050",
   "metadata": {},
   "outputs": [
    {
     "name": "stdout",
     "output_type": "stream",
     "text": [
      "타입: torch.FloatTensor\n",
      "크기: torch.Size([1, 1])\n",
      "값: \n",
      "tensor([[1.]])\n",
      "----------\n",
      "타입: torch.FloatTensor\n",
      "크기: torch.Size([3, 3])\n",
      "값: \n",
      "tensor([[0.9681, 0.9861, 0.9957],\n",
      "        [0.7283, 0.7639, 0.0286],\n",
      "        [0.4692, 0.1051, 0.1487]])\n"
     ]
    }
   ],
   "source": [
    "tensor1 = torch.Tensor([[1]])\n",
    "describe(tensor1)\n",
    "print('-'*10)\n",
    "\n",
    "# solution ??????\n",
    "a = torch.rand(3,3)\n",
    "a.unsqueeze(0)\n",
    "describe(a)"
   ]
  },
  {
   "cell_type": "markdown",
   "id": "42c53b96",
   "metadata": {},
   "source": [
    "문제 2\n",
    "<br>이전 텐서에 추가한 차원을 삭제하세요."
   ]
  },
  {
   "cell_type": "code",
   "execution_count": 14,
   "id": "7a12b048",
   "metadata": {},
   "outputs": [
    {
     "name": "stdout",
     "output_type": "stream",
     "text": [
      "타입: torch.FloatTensor\n",
      "크기: torch.Size([3, 3])\n",
      "값: \n",
      "tensor([[0.9681, 0.9861, 0.9957],\n",
      "        [0.7283, 0.7639, 0.0286],\n",
      "        [0.4692, 0.1051, 0.1487]])\n"
     ]
    }
   ],
   "source": [
    "# tensor1.squeeze(0)\n",
    "# describe(tensor1)\n",
    "\n",
    "# solution ???????\n",
    "a.squeeze(0)\n",
    "describe(a)"
   ]
  },
  {
   "cell_type": "markdown",
   "id": "ddd9f078",
   "metadata": {},
   "source": [
    "문제 3\n",
    "<br> [3, 7) 범위를 갖는 5x3 크기의 랜덤한 텐서를 만드세요."
   ]
  },
  {
   "cell_type": "code",
   "execution_count": 25,
   "id": "740ac769",
   "metadata": {},
   "outputs": [
    {
     "name": "stdout",
     "output_type": "stream",
     "text": [
      "타입: torch.FloatTensor\n",
      "크기: torch.Size([3, 5])\n",
      "값: \n",
      "tensor([[5., 4., 4., 6., 6.],\n",
      "        [3., 6., 6., 5., 3.],\n",
      "        [3., 4., 3., 5., 3.]])\n",
      "----------\n",
      "타입: torch.FloatTensor\n",
      "크기: torch.Size([5, 3])\n",
      "값: \n",
      "tensor([[4.7887, 5.9068, 3.3877],\n",
      "        [3.1161, 3.2317, 3.9937],\n",
      "        [6.4631, 5.7769, 5.0259],\n",
      "        [5.0657, 6.1484, 5.5728],\n",
      "        [3.9585, 6.4428, 4.4422]])\n"
     ]
    }
   ],
   "source": [
    "import random\n",
    "tensor_list = list()\n",
    "for _ in range(3):\n",
    "    a = list()\n",
    "    for __ in range(5):\n",
    "        a.append(random.randint(3,6))\n",
    "    tensor_list.append(a)\n",
    "describe(torch.Tensor(tensor_list))\n",
    "\n",
    "print('-'*10)\n",
    "\n",
    "# solution\n",
    "p3_sol = 3 + torch.rand(5,3) * (7-3)\n",
    "describe(p3_sol)"
   ]
  },
  {
   "cell_type": "markdown",
   "id": "e232442d",
   "metadata": {},
   "source": [
    "문제 4\n",
    "<br> 정규 분포(평균=0, 표준편차=1)를 사용해 텐서를 만드세요."
   ]
  },
  {
   "cell_type": "code",
   "execution_count": 27,
   "id": "ebd47500",
   "metadata": {},
   "outputs": [
    {
     "name": "stdout",
     "output_type": "stream",
     "text": [
      "타입: torch.FloatTensor\n",
      "크기: torch.Size([2, 3])\n",
      "값: \n",
      "tensor([[-1.0030,  0.1427, -0.8746],\n",
      "        [ 0.4658, -1.0565, -1.6432]])\n",
      "----------\n",
      "타입: torch.FloatTensor\n",
      "크기: torch.Size([3, 3])\n",
      "값: \n",
      "tensor([[ 1.5052,  1.8867, -0.1453],\n",
      "        [-2.8099,  0.7220,  0.1275],\n",
      "        [ 1.5732,  0.5132, -0.8293]])\n"
     ]
    }
   ],
   "source": [
    "describe(torch.randn(2,3)) # 이건 표준 정규분포로, 평균=0, 분산=1\n",
    "\n",
    "print('-'*10)\n",
    "\n",
    "# solution\n",
    "describe(torch.rand(3,3).normal_())"
   ]
  },
  {
   "cell_type": "markdown",
   "id": "e30b57a6",
   "metadata": {},
   "source": [
    "문제 5\n",
    "<br> 텐서 torch.Tensor([1, 1, 1, 0, 1])에서 0이 아닌 원소의 인덱스를 추출하세요."
   ]
  },
  {
   "cell_type": "code",
   "execution_count": 29,
   "id": "5384e8fe",
   "metadata": {},
   "outputs": [
    {
     "data": {
      "text/plain": [
       "tensor([[0],\n",
       "        [1],\n",
       "        [2],\n",
       "        [4]])"
      ]
     },
     "execution_count": 29,
     "metadata": {},
     "output_type": "execute_result"
    }
   ],
   "source": [
    "a = torch.Tensor([1, 1, 1, 0, 1])\n",
    "torch.nonzero(a)"
   ]
  },
  {
   "cell_type": "markdown",
   "id": "0fafd46f",
   "metadata": {},
   "source": [
    "문제 6\n",
    "<br> (3,1) 크기가 인 랜덤한 텐서를 만들고 네 벌을 복사해 쌓으세요."
   ]
  },
  {
   "cell_type": "code",
   "execution_count": 34,
   "id": "325c82ac",
   "metadata": {},
   "outputs": [
    {
     "name": "stdout",
     "output_type": "stream",
     "text": [
      "타입: torch.FloatTensor\n",
      "크기: torch.Size([3, 1])\n",
      "값: \n",
      "tensor([[0.3552],\n",
      "        [0.8336],\n",
      "        [0.5370]])\n",
      "----------\n",
      "타입: torch.FloatTensor\n",
      "크기: torch.Size([3, 4])\n",
      "값: \n",
      "tensor([[0.3552, 0.3552, 0.3552, 0.3552],\n",
      "        [0.8336, 0.8336, 0.8336, 0.8336],\n",
      "        [0.5370, 0.5370, 0.5370, 0.5370]])\n",
      "----------\n"
     ]
    },
    {
     "data": {
      "text/plain": [
       "tensor([[0.3552, 0.3552, 0.3552, 0.3552],\n",
       "        [0.8336, 0.8336, 0.8336, 0.8336],\n",
       "        [0.5370, 0.5370, 0.5370, 0.5370]])"
      ]
     },
     "execution_count": 34,
     "metadata": {},
     "output_type": "execute_result"
    }
   ],
   "source": [
    "base = torch.rand(3,1)\n",
    "describe(base)\n",
    "print('-'*10)\n",
    "tmp = torch.cat([base, base], dim=1)\n",
    "final = torch.cat([tmp, tmp], dim=1)\n",
    "describe(final)\n",
    "print('-'*10)\n",
    "# solution\n",
    "base.expand(3,4)"
   ]
  },
  {
   "cell_type": "markdown",
   "id": "ffc798ce",
   "metadata": {},
   "source": [
    "문제 7\n",
    "<br> 두 개의 2차원 행렬(a=torch.rand(3,4,5), b=torch.rand(3,5,4))의 배치 행렬 곱셈(batch matrix-matrix product)을 계산하세요."
   ]
  },
  {
   "cell_type": "code",
   "execution_count": 39,
   "id": "d4421433",
   "metadata": {},
   "outputs": [
    {
     "name": "stdout",
     "output_type": "stream",
     "text": [
      "tensor([[[1.1590, 0.8909, 0.8057, 1.0182],\n",
      "         [1.5591, 1.1585, 1.0923, 1.1140],\n",
      "         [1.4111, 1.0333, 1.2150, 1.1182],\n",
      "         [1.8034, 1.1298, 0.7946, 1.3338]],\n",
      "\n",
      "        [[1.9227, 1.4499, 2.2779, 1.9620],\n",
      "         [1.3621, 1.5984, 1.2965, 1.4332],\n",
      "         [1.5571, 1.2287, 1.7681, 1.4428],\n",
      "         [1.3773, 1.2335, 1.7856, 1.6191]],\n",
      "\n",
      "        [[1.1194, 2.0144, 0.9377, 1.4542],\n",
      "         [0.8915, 1.8976, 0.9701, 1.4235],\n",
      "         [1.5585, 3.0017, 1.2816, 2.3413],\n",
      "         [0.7374, 1.5348, 0.5050, 1.3821]]])\n"
     ]
    },
    {
     "data": {
      "text/plain": [
       "tensor([[[1.1590, 0.8909, 0.8057, 1.0182],\n",
       "         [1.5591, 1.1585, 1.0923, 1.1140],\n",
       "         [1.4111, 1.0333, 1.2150, 1.1182],\n",
       "         [1.8034, 1.1298, 0.7946, 1.3338]],\n",
       "\n",
       "        [[1.9227, 1.4499, 2.2779, 1.9620],\n",
       "         [1.3621, 1.5984, 1.2965, 1.4332],\n",
       "         [1.5571, 1.2287, 1.7681, 1.4428],\n",
       "         [1.3773, 1.2335, 1.7856, 1.6191]],\n",
       "\n",
       "        [[1.1194, 2.0144, 0.9377, 1.4542],\n",
       "         [0.8915, 1.8976, 0.9701, 1.4235],\n",
       "         [1.5585, 3.0017, 1.2816, 2.3413],\n",
       "         [0.7374, 1.5348, 0.5050, 1.3821]]])"
      ]
     },
     "execution_count": 39,
     "metadata": {},
     "output_type": "execute_result"
    }
   ],
   "source": [
    "a=torch.rand(3,4,5)\n",
    "b=torch.rand(3,5,4)\n",
    "\n",
    "print(a.matmul(b)) # 둘다 맞는 듯,,,?!\n",
    "\n",
    "# solution\n",
    "torch.bmm(a, b)"
   ]
  },
  {
   "cell_type": "markdown",
   "id": "dfcf1267",
   "metadata": {},
   "source": [
    "문제 8\n",
    "<br> 3차원 행렬(a=torch.rand(3,4,5))과 2차원 행렬(b=torch.rand(5,4))의 배치 행렬 곱셈을 계산하세요."
   ]
  },
  {
   "cell_type": "code",
   "execution_count": 43,
   "id": "5800a7cf",
   "metadata": {},
   "outputs": [
    {
     "name": "stdout",
     "output_type": "stream",
     "text": [
      "tensor([[[0.9044, 1.7234, 1.1598, 1.7060],\n",
      "         [1.7780, 1.8362, 1.5359, 1.3553],\n",
      "         [1.6616, 2.5525, 1.8752, 2.3692],\n",
      "         [1.1294, 1.8752, 1.4342, 1.7308]],\n",
      "\n",
      "        [[0.9315, 1.7528, 1.0709, 1.7663],\n",
      "         [1.2363, 1.9329, 1.4184, 1.8183],\n",
      "         [1.7008, 2.5542, 1.8605, 2.3219],\n",
      "         [0.9273, 1.5969, 1.0916, 1.5303]],\n",
      "\n",
      "        [[0.5080, 1.0863, 0.7811, 1.2178],\n",
      "         [1.2209, 1.7996, 1.5006, 1.6768],\n",
      "         [1.7022, 2.1171, 1.6782, 1.7233],\n",
      "         [1.5685, 2.1213, 1.6569, 1.8963]]])\n"
     ]
    },
    {
     "data": {
      "text/plain": [
       "tensor([[[0.9044, 1.7234, 1.1598, 1.7060],\n",
       "         [1.7780, 1.8362, 1.5359, 1.3553],\n",
       "         [1.6616, 2.5525, 1.8752, 2.3692],\n",
       "         [1.1294, 1.8752, 1.4342, 1.7308]],\n",
       "\n",
       "        [[0.9315, 1.7528, 1.0709, 1.7663],\n",
       "         [1.2363, 1.9329, 1.4184, 1.8183],\n",
       "         [1.7008, 2.5542, 1.8605, 2.3219],\n",
       "         [0.9273, 1.5969, 1.0916, 1.5303]],\n",
       "\n",
       "        [[0.5080, 1.0863, 0.7811, 1.2178],\n",
       "         [1.2209, 1.7996, 1.5006, 1.6768],\n",
       "         [1.7022, 2.1171, 1.6782, 1.7233],\n",
       "         [1.5685, 2.1213, 1.6569, 1.8963]]])"
      ]
     },
     "execution_count": 43,
     "metadata": {},
     "output_type": "execute_result"
    }
   ],
   "source": [
    "a=torch.rand(3,4,5)\n",
    "b=torch.rand(5,4)\n",
    "\n",
    "print(a.matmul(b)) # 7번 문제와 달리, 배치 차원을 맞추어 줘야함?... 일단 이것도 맞는가본디\n",
    "\n",
    "# solution\n",
    "torch.bmm(a, b.unsqueeze(0).expand(a.size(0), *b.size())) ###???"
   ]
  },
  {
   "cell_type": "code",
   "execution_count": null,
   "id": "d98006ea",
   "metadata": {},
   "outputs": [],
   "source": []
  }
 ],
 "metadata": {
  "kernelspec": {
   "display_name": "Python 3 (ipykernel)",
   "language": "python",
   "name": "python3"
  },
  "language_info": {
   "codemirror_mode": {
    "name": "ipython",
    "version": 3
   },
   "file_extension": ".py",
   "mimetype": "text/x-python",
   "name": "python",
   "nbconvert_exporter": "python",
   "pygments_lexer": "ipython3",
   "version": "3.9.7"
  }
 },
 "nbformat": 4,
 "nbformat_minor": 5
}
